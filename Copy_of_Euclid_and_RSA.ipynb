{
  "nbformat": 4,
  "nbformat_minor": 0,
  "metadata": {
    "colab": {
      "provenance": []
    },
    "kernelspec": {
      "name": "python3",
      "display_name": "Python 3"
    },
    "language_info": {
      "name": "python"
    }
  },
  "cells": [
    {
      "cell_type": "code",
      "source": [
        "def extended_euclidean(a, b):\n",
        "  if b == 0:\n",
        "    gcd, s, t = a, 1, 0\n",
        "    return (gcd, s, t)\n",
        "  else:\n",
        "    s2, t2, s1, t1 = 1, 0, 0, 1\n",
        "    while b > 0:\n",
        "      q= a // b\n",
        "      r, s, t = (a - b * q),(s2 - q * s1),( t2 - q * t1)\n",
        "      a,b,s2,t2,s1,t1=b,r,s1,t1,s,t\n",
        "    gcd,s,t=a,s2,t2\n",
        "    return (gcd,s,t)"
      ],
      "metadata": {
        "id": "dF-ibRkk7sSt"
      },
      "execution_count": 1,
      "outputs": []
    },
    {
      "cell_type": "markdown",
      "source": [
        "Use the Euclidean Algorithm to find the inverse an integer modulo n."
      ],
      "metadata": {
        "id": "FxjQWZwT2xAi"
      }
    },
    {
      "cell_type": "code",
      "source": [
        "#Take input\n",
        "print(\"Input two non-negative integers a and b such that a>=b and press 'enter'\")\n",
        "a, b = map(int, input().split())\n",
        "x, y = a, b  # Store temporarily\n",
        "result=extended_euclidean(a,b)\n",
        "#Print the result\n",
        "print(f\"gcd({x},{y})={result[0]}\")\n",
        "print(f\"Linear combination gcd(a,b)=sa+tb:\\n {result[0]}={result[1]}*{x}+{result[2]}*{y}\")"
      ],
      "metadata": {
        "colab": {
          "base_uri": "https://localhost:8080/"
        },
        "id": "556Ln_h9yd-E",
        "outputId": "2a50009d-5f4a-473a-d83d-7e24621789dc"
      },
      "execution_count": 6,
      "outputs": [
        {
          "output_type": "stream",
          "name": "stdout",
          "text": [
            "Input two non-negative integers a and b such that a>=b and press 'enter'\n",
            "7 2\n",
            "gcd(7,2)=1\n",
            "Linear combination gcd(a,b)=sa+tb:\n",
            " 1=1*7+-3*2\n"
          ]
        }
      ]
    },
    {
      "cell_type": "markdown",
      "source": [
        "Convert that inverse to a positive integer"
      ],
      "metadata": {
        "id": "Gs_-on1U29zj"
      }
    },
    {
      "cell_type": "code",
      "source": [
        "print(-3 % 7)"
      ],
      "metadata": {
        "colab": {
          "base_uri": "https://localhost:8080/"
        },
        "id": "cUQSJirdyts2",
        "outputId": "7ef7cc18-8aca-4435-d554-362098161906"
      },
      "execution_count": 7,
      "outputs": [
        {
          "output_type": "stream",
          "name": "stdout",
          "text": [
            "4\n"
          ]
        }
      ]
    },
    {
      "cell_type": "markdown",
      "source": [
        "Verify that it is the inverse of your chosen integer."
      ],
      "metadata": {
        "id": "YKAFy-2y3ElN"
      }
    },
    {
      "cell_type": "code",
      "source": [
        "print((4*2) % 7)"
      ],
      "metadata": {
        "colab": {
          "base_uri": "https://localhost:8080/"
        },
        "id": "v1MRlsQd7Oyn",
        "outputId": "5eca3e0e-1cc5-480b-b3cc-72351adb0a34"
      },
      "execution_count": 8,
      "outputs": [
        {
          "output_type": "stream",
          "name": "stdout",
          "text": [
            "1\n"
          ]
        }
      ]
    },
    {
      "cell_type": "markdown",
      "source": [
        "Now we begin encrypting a message. First we convert our message into plaintext."
      ],
      "metadata": {
        "id": "Q8KT-s283WAv"
      }
    },
    {
      "cell_type": "code",
      "source": [
        "def convert_to_numbers(input):\n",
        "  output = []\n",
        "\n",
        "  for character in input:\n",
        "    number = ord(character) - ord('@')\n",
        "    output.append(number)\n",
        "\n",
        "  return(output)"
      ],
      "metadata": {
        "id": "M6lYC63P8Ba-"
      },
      "execution_count": 10,
      "outputs": []
    },
    {
      "cell_type": "code",
      "source": [
        "unecrypted_message = 'HI_ALICE'\n",
        "plain_text = convert_to_numbers(unecrypted_message)\n",
        "print(plain_text)"
      ],
      "metadata": {
        "colab": {
          "base_uri": "https://localhost:8080/"
        },
        "id": "CRtQWlXF9pZ5",
        "outputId": "5785c75b-b3a3-45c5-b09a-72d84ad60dd3"
      },
      "execution_count": 24,
      "outputs": [
        {
          "output_type": "stream",
          "name": "stdout",
          "text": [
            "[8, 9, 31, 1, 12, 9, 3, 5]\n"
          ]
        }
      ]
    },
    {
      "cell_type": "markdown",
      "source": [
        "Then we use the public key to encrypt the message."
      ],
      "metadata": {
        "id": "uHmuJvns3et1"
      }
    },
    {
      "cell_type": "code",
      "source": [
        "def encrypt_string(input, e, n):\n",
        "  encrypted_message = []\n",
        "  for number in input:\n",
        "    cypher_number = number**e % n\n",
        "    encrypted_message.append(cypher_number)\n",
        "\n",
        "  return(encrypted_message)"
      ],
      "metadata": {
        "id": "rnXq4miOSdNZ"
      },
      "execution_count": 12,
      "outputs": []
    },
    {
      "cell_type": "code",
      "source": [
        "cypher_text = encrypt_string(plain_text, 3, 55)\n",
        "print(cypher_text)"
      ],
      "metadata": {
        "colab": {
          "base_uri": "https://localhost:8080/"
        },
        "id": "I4y_G9Y0T0wS",
        "outputId": "055fd749-5193-452a-833b-eb45a6eef54f"
      },
      "execution_count": 25,
      "outputs": [
        {
          "output_type": "stream",
          "name": "stdout",
          "text": [
            "[17, 14, 36, 1, 23, 14, 27, 15]\n"
          ]
        }
      ]
    },
    {
      "cell_type": "markdown",
      "source": [
        "Now we use the decryption key, found using the Euclidean algorithm, to decrypt the message."
      ],
      "metadata": {
        "id": "5MJM4wVI3kd-"
      }
    },
    {
      "cell_type": "code",
      "source": [
        "def decrypt_message(cypher_text, decryption_key, n):\n",
        "  plain_numbers = []\n",
        "  for number in cypher_text:\n",
        "    plain_number = number**(decryption_key) % n\n",
        "    plain_numbers.append(plain_number)\n",
        "\n",
        "  return(plain_numbers)"
      ],
      "metadata": {
        "id": "7iOkAvloVyam"
      },
      "execution_count": 21,
      "outputs": []
    },
    {
      "cell_type": "code",
      "source": [
        "def convert_to_letters(input):\n",
        "  string = []\n",
        "  for number in input:\n",
        "    character = chr(ord('@')+number)\n",
        "    string.append(character)\n",
        "\n",
        "  return(string)"
      ],
      "metadata": {
        "id": "48adVVdLUkkA"
      },
      "execution_count": 22,
      "outputs": []
    },
    {
      "cell_type": "code",
      "source": [
        "message = decrypt_message(cypher_text, 27, 55)\n",
        "print(message)\n",
        "print(\"\".join(convert_to_letters(message)))"
      ],
      "metadata": {
        "colab": {
          "base_uri": "https://localhost:8080/"
        },
        "id": "-ZyLN2uWXBY-",
        "outputId": "a0454161-7432-4083-8861-a73f35b5ab49"
      },
      "execution_count": 26,
      "outputs": [
        {
          "output_type": "stream",
          "name": "stdout",
          "text": [
            "[8, 9, 31, 1, 12, 9, 3, 5]\n",
            "HI_ALICE\n"
          ]
        }
      ]
    }
  ]
}